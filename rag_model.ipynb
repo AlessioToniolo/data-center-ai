{
 "cells": [
  {
   "cell_type": "code",
   "execution_count": null,
   "id": "d57fc2b6-a9c4-4e90-a294-be6d60a17b3a",
   "metadata": {},
   "outputs": [],
   "source": [
    "from langchain import OpenAI\n",
    "from langchain.embeddings.openai import OpenAIEmbeddings\n",
    "from langchain.vectorstores import FAISS\n",
    "from langchain.text_splitter import CharacterTextSplitter\n",
    "from langchain.chains import RetrievalQA\n",
    "\n",
    "# Load your data\n",
    "with open('collected_data.json', 'r') as f:\n",
    "    data = json.load(f)\n",
    "\n",
    "# Prepare the data for RAG\n",
    "text_splitter = CharacterTextSplitter(chunk_size=1000, chunk_overlap=0)\n",
    "texts = text_splitter.split_text(json.dumps(data))\n",
    "\n",
    "# Create embeddings and vector store\n",
    "embeddings = OpenAIEmbeddings()\n",
    "docsearch = FAISS.from_texts(texts, embeddings)\n",
    "\n",
    "# Set up the RAG model\n",
    "qa = RetrievalQA.from_chain_type(llm=OpenAI(), chain_type=\"stuff\", retriever=docsearch.as_retriever())\n",
    "\n",
    "# Example query\n",
    "query = \"What are the best locations for data centers based on climate and real estate factors?\"\n",
    "result = qa({\"query\": query})\n",
    "print(result)"
   ]
  }
 ],
 "metadata": {
  "kernelspec": {
   "display_name": "Python 3 (ipykernel)",
   "language": "python",
   "name": "python3"
  },
  "language_info": {
   "codemirror_mode": {
    "name": "ipython",
    "version": 3
   },
   "file_extension": ".py",
   "mimetype": "text/x-python",
   "name": "python",
   "nbconvert_exporter": "python",
   "pygments_lexer": "ipython3",
   "version": "3.10.4"
  }
 },
 "nbformat": 4,
 "nbformat_minor": 5
}
